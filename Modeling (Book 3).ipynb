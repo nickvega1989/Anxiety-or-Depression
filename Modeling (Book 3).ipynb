{
 "cells": [
  {
   "cell_type": "markdown",
   "metadata": {},
   "source": [
    "## Import Relevant Packages / Libraries"
   ]
  },
  {
   "cell_type": "code",
   "execution_count": 52,
   "metadata": {},
   "outputs": [],
   "source": [
    "import warnings\n",
    "warnings.filterwarnings('ignore')"
   ]
  },
  {
   "cell_type": "code",
   "execution_count": 53,
   "metadata": {},
   "outputs": [],
   "source": [
    "import pandas as pd\n",
    "pd.set_option('max_columns', 75)\n",
    "import numpy as np \n",
    "import time\n",
    "import seaborn as sns\n",
    "\n",
    "# importing sklearn libraries\n",
    "\n",
    "from sklearn.model_selection import train_test_split, GridSearchCV\n",
    "from sklearn.pipeline import Pipeline\n",
    "from sklearn.metrics import confusion_matrix, classification_report, accuracy_score\n",
    "from sklearn.linear_model import LogisticRegression\n",
    "from sklearn.ensemble import RandomForestClassifier\n",
    "from sklearn.ensemble import BaggingClassifier\n",
    "import matplotlib.pyplot as plt \n",
    "\n",
    "%matplotlib inline\n",
    "from sklearn.feature_extraction import stop_words\n",
    "from sklearn.feature_extraction.text import CountVectorizer, TfidfVectorizer, ENGLISH_STOP_WORDS\n",
    "from sklearn.naive_bayes import MultinomialNB, GaussianNB, BernoulliNB\n",
    "\n",
    "import nltk\n",
    "from nltk.stem import WordNetLemmatizer"
   ]
  },
  {
   "cell_type": "markdown",
   "metadata": {},
   "source": [
    "### Importing Cleaned Data to be used for modeling"
   ]
  },
  {
   "cell_type": "code",
   "execution_count": 54,
   "metadata": {},
   "outputs": [],
   "source": [
    "reddits = pd.read_csv('./reddits_cleaned_for_modeling.csv')"
   ]
  },
  {
   "cell_type": "code",
   "execution_count": 55,
   "metadata": {},
   "outputs": [
    {
     "data": {
      "text/html": [
       "<div>\n",
       "<style scoped>\n",
       "    .dataframe tbody tr th:only-of-type {\n",
       "        vertical-align: middle;\n",
       "    }\n",
       "\n",
       "    .dataframe tbody tr th {\n",
       "        vertical-align: top;\n",
       "    }\n",
       "\n",
       "    .dataframe thead th {\n",
       "        text-align: right;\n",
       "    }\n",
       "</style>\n",
       "<table border=\"1\" class=\"dataframe\">\n",
       "  <thead>\n",
       "    <tr style=\"text-align: right;\">\n",
       "      <th></th>\n",
       "      <th>target</th>\n",
       "      <th>selftext</th>\n",
       "      <th>title</th>\n",
       "      <th>word_count</th>\n",
       "    </tr>\n",
       "  </thead>\n",
       "  <tbody>\n",
       "    <tr>\n",
       "      <th>0</th>\n",
       "      <td>1</td>\n",
       "      <td>2019 was probably one of the worst year of my ...</td>\n",
       "      <td>Hello 2020 and fuck you 2019.</td>\n",
       "      <td>49</td>\n",
       "    </tr>\n",
       "    <tr>\n",
       "      <th>1</th>\n",
       "      <td>1</td>\n",
       "      <td>I saw your post on this subreddit. I saw that ...</td>\n",
       "      <td>To my new hopeful friend on the other side of ...</td>\n",
       "      <td>114</td>\n",
       "    </tr>\n",
       "    <tr>\n",
       "      <th>2</th>\n",
       "      <td>1</td>\n",
       "      <td>I feel like I've been hanging on by a thread, ...</td>\n",
       "      <td>can't imagine making it to 2030</td>\n",
       "      <td>60</td>\n",
       "    </tr>\n",
       "    <tr>\n",
       "      <th>3</th>\n",
       "      <td>1</td>\n",
       "      <td>blank post</td>\n",
       "      <td>Why do I have the strongest urge to jump out o...</td>\n",
       "      <td>2</td>\n",
       "    </tr>\n",
       "    <tr>\n",
       "      <th>4</th>\n",
       "      <td>1</td>\n",
       "      <td>I've been clean from self harm for over two ye...</td>\n",
       "      <td>Suicidal thoughts are so intense</td>\n",
       "      <td>104</td>\n",
       "    </tr>\n",
       "    <tr>\n",
       "      <th>...</th>\n",
       "      <td>...</td>\n",
       "      <td>...</td>\n",
       "      <td>...</td>\n",
       "      <td>...</td>\n",
       "    </tr>\n",
       "    <tr>\n",
       "      <th>3796</th>\n",
       "      <td>0</td>\n",
       "      <td>So i know a kid who threatened to shoot my sch...</td>\n",
       "      <td>School sucks</td>\n",
       "      <td>176</td>\n",
       "    </tr>\n",
       "    <tr>\n",
       "      <th>3797</th>\n",
       "      <td>0</td>\n",
       "      <td>Just dropped out of school. I realized that my...</td>\n",
       "      <td>Drop out</td>\n",
       "      <td>73</td>\n",
       "    </tr>\n",
       "    <tr>\n",
       "      <th>3798</th>\n",
       "      <td>0</td>\n",
       "      <td>My anxiety tells me I'm worthless,  and that p...</td>\n",
       "      <td>Having a hard time</td>\n",
       "      <td>180</td>\n",
       "    </tr>\n",
       "    <tr>\n",
       "      <th>3799</th>\n",
       "      <td>0</td>\n",
       "      <td>Last weekend I finally told my parents about m...</td>\n",
       "      <td>Finally seeing a doctor</td>\n",
       "      <td>96</td>\n",
       "    </tr>\n",
       "    <tr>\n",
       "      <th>3800</th>\n",
       "      <td>0</td>\n",
       "      <td>I would be fearful to do some of the most basi...</td>\n",
       "      <td>Afraid to do basic things.</td>\n",
       "      <td>203</td>\n",
       "    </tr>\n",
       "  </tbody>\n",
       "</table>\n",
       "<p>3801 rows × 4 columns</p>\n",
       "</div>"
      ],
      "text/plain": [
       "      target                                           selftext  \\\n",
       "0          1  2019 was probably one of the worst year of my ...   \n",
       "1          1  I saw your post on this subreddit. I saw that ...   \n",
       "2          1  I feel like I've been hanging on by a thread, ...   \n",
       "3          1                                         blank post   \n",
       "4          1  I've been clean from self harm for over two ye...   \n",
       "...      ...                                                ...   \n",
       "3796       0  So i know a kid who threatened to shoot my sch...   \n",
       "3797       0  Just dropped out of school. I realized that my...   \n",
       "3798       0  My anxiety tells me I'm worthless,  and that p...   \n",
       "3799       0  Last weekend I finally told my parents about m...   \n",
       "3800       0  I would be fearful to do some of the most basi...   \n",
       "\n",
       "                                                  title  word_count  \n",
       "0                         Hello 2020 and fuck you 2019.          49  \n",
       "1     To my new hopeful friend on the other side of ...         114  \n",
       "2                       can't imagine making it to 2030          60  \n",
       "3     Why do I have the strongest urge to jump out o...           2  \n",
       "4                      Suicidal thoughts are so intense         104  \n",
       "...                                                 ...         ...  \n",
       "3796                                       School sucks         176  \n",
       "3797                                           Drop out          73  \n",
       "3798                                 Having a hard time         180  \n",
       "3799                            Finally seeing a doctor          96  \n",
       "3800                         Afraid to do basic things.         203  \n",
       "\n",
       "[3801 rows x 4 columns]"
      ]
     },
     "execution_count": 55,
     "metadata": {},
     "output_type": "execute_result"
    }
   ],
   "source": [
    "reddits"
   ]
  },
  {
   "cell_type": "markdown",
   "metadata": {},
   "source": [
    "# NLP Processing and Modeling"
   ]
  },
  {
   "cell_type": "markdown",
   "metadata": {},
   "source": [
    "### Set X and Y Variables"
   ]
  },
  {
   "cell_type": "code",
   "execution_count": 56,
   "metadata": {},
   "outputs": [],
   "source": [
    "X = reddits['selftext']\n",
    "y = reddits['target']"
   ]
  },
  {
   "cell_type": "markdown",
   "metadata": {},
   "source": [
    "### Lemmatizing, Creating a Logistic Regression Model and Gridsearching over the best parameters to use"
   ]
  },
  {
   "cell_type": "code",
   "execution_count": 57,
   "metadata": {},
   "outputs": [],
   "source": [
    "# instantiate wordnet lemmatizer\n",
    "lemmatizer = WordNetLemmatizer()\n",
    "\n",
    "X_lem = [lemmatizer.lemmatize(i) for i in X]\n",
    "\n",
    "# converting the lemmatized words (which is a list) to a pandas dataframe and will train_test_split\n",
    "# using X_lem belwo\n",
    "X_lem = pd.Series(i for i in X_lem)"
   ]
  },
  {
   "cell_type": "code",
   "execution_count": 58,
   "metadata": {},
   "outputs": [],
   "source": [
    "# performing a new train test split\n",
    "X_train_lem, X_test_lem, y_train_lem, y_test_lem = train_test_split(X_lem, y, random_state=78758, \n",
    "                                                   test_size=0.33,\n",
    "                                                    stratify=y,)"
   ]
  },
  {
   "cell_type": "code",
   "execution_count": 59,
   "metadata": {},
   "outputs": [],
   "source": [
    "# creating a pipe and grid search for various logistic regression parameters\n",
    "pipe_logreg = Pipeline([\n",
    "    ('cvec', CountVectorizer(stop_words='english')),\n",
    "    ('logreg', LogisticRegression(solver='liblinear'))\n",
    "])\n",
    "\n",
    "pipe_params_logreg = {'logreg__C': [1, 20, 1/10, 1, 10, 20], # setting various alphas\n",
    "                 'logreg__penalty': ['l1', 'l2'] # default penalty is 'l2' for application of ridge regression\n",
    "                      # 'l1' to consider lasso regression\n",
    "                      \n",
    "}\n",
    "\n",
    "gs_logreg = GridSearchCV(pipe_logreg, pipe_params_logreg, cv=5)"
   ]
  },
  {
   "cell_type": "code",
   "execution_count": 60,
   "metadata": {},
   "outputs": [
    {
     "name": "stdout",
     "output_type": "stream",
     "text": [
      "It took 62.3716 seconds for the model to run\n",
      "Pipeline(memory=None,\n",
      "         steps=[('cvec',\n",
      "                 CountVectorizer(analyzer='word', binary=False,\n",
      "                                 decode_error='strict',\n",
      "                                 dtype=<class 'numpy.int64'>, encoding='utf-8',\n",
      "                                 input='content', lowercase=True, max_df=1.0,\n",
      "                                 max_features=None, min_df=1,\n",
      "                                 ngram_range=(1, 1), preprocessor=None,\n",
      "                                 stop_words='english', strip_accents=None,\n",
      "                                 token_pattern='(?u)\\\\b\\\\w\\\\w+\\\\b',\n",
      "                                 tokenizer=None, vocabulary=None)),\n",
      "                ('logreg',\n",
      "                 LogisticRegression(C=0.1, class_weight=None, dual=False,\n",
      "                                    fit_intercept=True, intercept_scaling=1,\n",
      "                                    l1_ratio=None, max_iter=100,\n",
      "                                    multi_class='warn', n_jobs=None,\n",
      "                                    penalty='l2', random_state=None,\n",
      "                                    solver='liblinear', tol=0.0001, verbose=0,\n",
      "                                    warm_start=False))],\n",
      "         verbose=False)\n"
     ]
    }
   ],
   "source": [
    "t0= time.time()\n",
    "gs_logreg.fit(X_train_lem, y_train_lem)\n",
    "print(f'It took {round(time.time() - t0, 4)} seconds for the model to run') \n",
    "\n",
    "gs_model_logreg = gs_logreg.best_estimator_\n",
    "print(gs_model_logreg)"
   ]
  },
  {
   "cell_type": "code",
   "execution_count": 61,
   "metadata": {},
   "outputs": [
    {
     "data": {
      "text/plain": [
       "0.9520816967792616"
      ]
     },
     "execution_count": 61,
     "metadata": {},
     "output_type": "execute_result"
    }
   ],
   "source": [
    "# score on training data set with gs_model_logreg\n",
    "gs_model_logreg.score(X_train_lem, y_train_lem)"
   ]
  },
  {
   "cell_type": "code",
   "execution_count": 62,
   "metadata": {},
   "outputs": [
    {
     "data": {
      "text/plain": [
       "0.8454183266932271"
      ]
     },
     "execution_count": 62,
     "metadata": {},
     "output_type": "execute_result"
    }
   ],
   "source": [
    "# score on test data set with gs_model_logreg\n",
    "gs_model_logreg.score(X_test_lem, y_test_lem)"
   ]
  },
  {
   "cell_type": "code",
   "execution_count": 63,
   "metadata": {},
   "outputs": [
    {
     "data": {
      "text/html": [
       "<div>\n",
       "<style scoped>\n",
       "    .dataframe tbody tr th:only-of-type {\n",
       "        vertical-align: middle;\n",
       "    }\n",
       "\n",
       "    .dataframe tbody tr th {\n",
       "        vertical-align: top;\n",
       "    }\n",
       "\n",
       "    .dataframe thead th {\n",
       "        text-align: right;\n",
       "    }\n",
       "</style>\n",
       "<table border=\"1\" class=\"dataframe\">\n",
       "  <thead>\n",
       "    <tr style=\"text-align: right;\">\n",
       "      <th></th>\n",
       "      <th>Prediction: Anxiety</th>\n",
       "      <th>Prediction: Depression</th>\n",
       "    </tr>\n",
       "  </thead>\n",
       "  <tbody>\n",
       "    <tr>\n",
       "      <th>Actual: Anxiety</th>\n",
       "      <td>526</td>\n",
       "      <td>117</td>\n",
       "    </tr>\n",
       "    <tr>\n",
       "      <th>Actual: Depression</th>\n",
       "      <td>77</td>\n",
       "      <td>535</td>\n",
       "    </tr>\n",
       "  </tbody>\n",
       "</table>\n",
       "</div>"
      ],
      "text/plain": [
       "                    Prediction: Anxiety  Prediction: Depression\n",
       "Actual: Anxiety                     526                     117\n",
       "Actual: Depression                   77                     535"
      ]
     },
     "execution_count": 63,
     "metadata": {},
     "output_type": "execute_result"
    }
   ],
   "source": [
    "predictions_gs_logreg = gs_model_logreg.predict(X_test_lem)\n",
    "\n",
    "# Building a confusion matrix for the gs_model\n",
    "pd.DataFrame(confusion_matrix(y_test_lem, predictions_gs_logreg), \n",
    "             columns=['Prediction: Anxiety', 'Prediction: Depression'],\n",
    "             index= ['Actual: Anxiety', 'Actual: Depression'])"
   ]
  },
  {
   "cell_type": "code",
   "execution_count": 64,
   "metadata": {},
   "outputs": [
    {
     "data": {
      "image/png": "[encoded data removed]",
      "text/plain": [
       "<Figure size 432x576 with 1 Axes>"
      ]
     },
     "metadata": {
      "needs_background": "light"
     },
     "output_type": "display_data"
    }
   ],
   "source": [
    "plt.figure(figsize=(6,8))\n",
    "cm = confusion_matrix(y_test_lem, predictions_gs_logreg)\n",
    "sns.heatmap(cm, square=True, annot=True, cbar=False, fmt='g', cmap='coolwarm',\n",
    "xticklabels=['Prediction: Anxiety', 'Prediction: Depression'],\n",
    "            yticklabels=['Actual: Anxiety', 'Actual: Depression'])\n",
    "plt.xlabel('True Values')\n",
    "plt.ylabel('Predictions');"
   ]
  },
  {
   "cell_type": "markdown",
   "metadata": {},
   "source": [
    "### Creating a Logistic Regression Model and Gridsearching over the best parameters WITHOUT Lemmatization"
   ]
  },
  {
   "cell_type": "code",
   "execution_count": 65,
   "metadata": {},
   "outputs": [],
   "source": [
    "X = reddits['selftext']\n",
    "y = reddits['target']"
   ]
  },
  {
   "cell_type": "code",
   "execution_count": 66,
   "metadata": {},
   "outputs": [],
   "source": [
    "# performing a new train test split\n",
    "X_train, X_test, y_train, y_test = train_test_split(X, y, random_state=30303, \n",
    "                                                    stratify=y,)"
   ]
  },
  {
   "cell_type": "code",
   "execution_count": 67,
   "metadata": {},
   "outputs": [],
   "source": [
    "# creating a pipe and grid search for various logistic regression parameters\n",
    "pipe_logreg = Pipeline([\n",
    "   \n",
    "    ('logreg', LogisticRegression(solver='liblinear'))\n",
    "])\n",
    "\n",
    "pipe_params_logreg = {'logreg__C': [1, 20, 1/10, 1, 10, 20], # setting various alphas\n",
    "                 'logreg__penalty': ['l1', 'l2'] # default penalty is 'l2' for application of ridge regression\n",
    "                      # 'l1' to consider lasso regression\n",
    "                      \n",
    "}\n",
    "\n",
    "gs_logreg = GridSearchCV(pipe_logreg, pipe_params_logreg, cv=5)"
   ]
  },
  {
   "cell_type": "code",
   "execution_count": 68,
   "metadata": {},
   "outputs": [
    {
     "name": "stdout",
     "output_type": "stream",
     "text": [
      "It took 25.0089 seconds for the model to run\n"
     ]
    }
   ],
   "source": [
    "cvec = CountVectorizer()\n",
    "cvec.fit(X_train)\n",
    "\n",
    "# Transform the corpus.\n",
    "X_train_cvec = cvec.transform(X_train)\n",
    "\n",
    "# Transform test\n",
    "X_test_cvec = cvec.transform(X_test)\n",
    "\n",
    "t0= time.time()\n",
    "gs_logreg.fit(X_train_cvec, y_train)\n",
    "print(f'It took {round(time.time() - t0, 4)} seconds for the model to run') "
   ]
  },
  {
   "cell_type": "code",
   "execution_count": 69,
   "metadata": {},
   "outputs": [
    {
     "data": {
      "text/plain": [
       "Pipeline(memory=None,\n",
       "         steps=[('logreg',\n",
       "                 LogisticRegression(C=0.1, class_weight=None, dual=False,\n",
       "                                    fit_intercept=True, intercept_scaling=1,\n",
       "                                    l1_ratio=None, max_iter=100,\n",
       "                                    multi_class='warn', n_jobs=None,\n",
       "                                    penalty='l2', random_state=None,\n",
       "                                    solver='liblinear', tol=0.0001, verbose=0,\n",
       "                                    warm_start=False))],\n",
       "         verbose=False)"
      ]
     },
     "execution_count": 69,
     "metadata": {},
     "output_type": "execute_result"
    }
   ],
   "source": [
    "gs_model_logreg = gs_logreg.best_estimator_\n",
    "gs_model_logreg"
   ]
  },
  {
   "cell_type": "code",
   "execution_count": 70,
   "metadata": {},
   "outputs": [
    {
     "data": {
      "text/plain": [
       "0.9543859649122807"
      ]
     },
     "execution_count": 70,
     "metadata": {},
     "output_type": "execute_result"
    }
   ],
   "source": [
    "# score on training data set with gs_model_logreg\n",
    "gs_model_logreg.score(X_train_cvec, y_train)"
   ]
  },
  {
   "cell_type": "code",
   "execution_count": 71,
   "metadata": {},
   "outputs": [
    {
     "data": {
      "text/plain": [
       "0.8380651945320715"
      ]
     },
     "execution_count": 71,
     "metadata": {},
     "output_type": "execute_result"
    }
   ],
   "source": [
    "# score on testing data set with gs_model_logreg\n",
    "gs_model_logreg.score(X_test_cvec, y_test)"
   ]
  },
  {
   "cell_type": "code",
   "execution_count": 2,
   "metadata": {},
   "outputs": [],
   "source": []
  },
  {
   "cell_type": "code",
   "execution_count": null,
   "metadata": {},
   "outputs": [],
   "source": []
  },
  {
   "cell_type": "code",
   "execution_count": 72,
   "metadata": {},
   "outputs": [
    {
     "data": {
      "image/png": "[encoded data removed]",
      "text/plain": [
       "<Figure size 504x648 with 1 Axes>"
      ]
     },
     "metadata": {
      "needs_background": "light"
     },
     "output_type": "display_data"
    }
   ],
   "source": [
    "predictions_gs_logreg = gs_model_logreg.predict(X_test_cvec)\n",
    "\n",
    "plt.figure(figsize=(7,9))\n",
    "cm = confusion_matrix(y_test, predictions_gs_logreg)\n",
    "sns.heatmap(cm, square=True, annot=True, cbar=False, fmt='g', cmap='YlGnBu',\n",
    "xticklabels=['Prediction: Anxiety', 'Prediction: Depression'],\n",
    "            yticklabels=['Actual: Anxiety', 'Actual: Depression'])\n",
    "plt.xlabel('True Values')\n",
    "plt.ylabel('Predictions');"
   ]
  },
  {
   "cell_type": "code",
   "execution_count": 87,
   "metadata": {},
   "outputs": [
    {
     "data": {
      "text/html": [
       "<div>\n",
       "<style scoped>\n",
       "    .dataframe tbody tr th:only-of-type {\n",
       "        vertical-align: middle;\n",
       "    }\n",
       "\n",
       "    .dataframe tbody tr th {\n",
       "        vertical-align: top;\n",
       "    }\n",
       "\n",
       "    .dataframe thead th {\n",
       "        text-align: right;\n",
       "    }\n",
       "</style>\n",
       "<table border=\"1\" class=\"dataframe\">\n",
       "  <thead>\n",
       "    <tr style=\"text-align: right;\">\n",
       "      <th></th>\n",
       "      <th>predicted</th>\n",
       "      <th>actual</th>\n",
       "      <th>text</th>\n",
       "      <th>correct</th>\n",
       "    </tr>\n",
       "  </thead>\n",
       "  <tbody>\n",
       "    <tr>\n",
       "      <th>0</th>\n",
       "      <td>1</td>\n",
       "      <td>0</td>\n",
       "      <td>Im so excited good god</td>\n",
       "      <td>False</td>\n",
       "    </tr>\n",
       "    <tr>\n",
       "      <th>2</th>\n",
       "      <td>0</td>\n",
       "      <td>1</td>\n",
       "      <td>Seemed okay at first when I went to the doughn...</td>\n",
       "      <td>False</td>\n",
       "    </tr>\n",
       "    <tr>\n",
       "      <th>8</th>\n",
       "      <td>0</td>\n",
       "      <td>1</td>\n",
       "      <td>We got into a fight last night, and it hurt ou...</td>\n",
       "      <td>False</td>\n",
       "    </tr>\n",
       "    <tr>\n",
       "      <th>9</th>\n",
       "      <td>1</td>\n",
       "      <td>0</td>\n",
       "      <td>I've pain at several of my joints : knees, elb...</td>\n",
       "      <td>False</td>\n",
       "    </tr>\n",
       "    <tr>\n",
       "      <th>15</th>\n",
       "      <td>0</td>\n",
       "      <td>1</td>\n",
       "      <td>Hello everyone!\\nI've been diagnosed with BPD,...</td>\n",
       "      <td>False</td>\n",
       "    </tr>\n",
       "    <tr>\n",
       "      <th>...</th>\n",
       "      <td>...</td>\n",
       "      <td>...</td>\n",
       "      <td>...</td>\n",
       "      <td>...</td>\n",
       "    </tr>\n",
       "    <tr>\n",
       "      <th>933</th>\n",
       "      <td>1</td>\n",
       "      <td>0</td>\n",
       "      <td>I think I am. I don’t know what it is yet thou...</td>\n",
       "      <td>False</td>\n",
       "    </tr>\n",
       "    <tr>\n",
       "      <th>938</th>\n",
       "      <td>1</td>\n",
       "      <td>0</td>\n",
       "      <td>I go back to college tomorrow and I don’t want...</td>\n",
       "      <td>False</td>\n",
       "    </tr>\n",
       "    <tr>\n",
       "      <th>941</th>\n",
       "      <td>1</td>\n",
       "      <td>0</td>\n",
       "      <td>I’ve finally been referred for CBT in my area....</td>\n",
       "      <td>False</td>\n",
       "    </tr>\n",
       "    <tr>\n",
       "      <th>944</th>\n",
       "      <td>1</td>\n",
       "      <td>0</td>\n",
       "      <td>I hate them, too.  But this time, they really ...</td>\n",
       "      <td>False</td>\n",
       "    </tr>\n",
       "    <tr>\n",
       "      <th>948</th>\n",
       "      <td>1</td>\n",
       "      <td>0</td>\n",
       "      <td>DAE feel like the moment they enter the room t...</td>\n",
       "      <td>False</td>\n",
       "    </tr>\n",
       "  </tbody>\n",
       "</table>\n",
       "<p>154 rows × 4 columns</p>\n",
       "</div>"
      ],
      "text/plain": [
       "     predicted  actual                                               text  \\\n",
       "0            1       0                             Im so excited good god   \n",
       "2            0       1  Seemed okay at first when I went to the doughn...   \n",
       "8            0       1  We got into a fight last night, and it hurt ou...   \n",
       "9            1       0  I've pain at several of my joints : knees, elb...   \n",
       "15           0       1  Hello everyone!\\nI've been diagnosed with BPD,...   \n",
       "..         ...     ...                                                ...   \n",
       "933          1       0  I think I am. I don’t know what it is yet thou...   \n",
       "938          1       0  I go back to college tomorrow and I don’t want...   \n",
       "941          1       0  I’ve finally been referred for CBT in my area....   \n",
       "944          1       0  I hate them, too.  But this time, they really ...   \n",
       "948          1       0  DAE feel like the moment they enter the room t...   \n",
       "\n",
       "     correct  \n",
       "0      False  \n",
       "2      False  \n",
       "8      False  \n",
       "9      False  \n",
       "15     False  \n",
       "..       ...  \n",
       "933    False  \n",
       "938    False  \n",
       "941    False  \n",
       "944    False  \n",
       "948    False  \n",
       "\n",
       "[154 rows x 4 columns]"
      ]
     },
     "execution_count": 87,
     "metadata": {},
     "output_type": "execute_result"
    }
   ],
   "source": [
    "# Create DataFrame with column for predicted values.\n",
    "results = pd.DataFrame(predictions_gs_logreg, columns=['predicted'])\n",
    "\n",
    "# Create column for observed values.\n",
    "results['actual'] = y_test.values\n",
    "# add original text to the results df\n",
    "results['text'] = X_test.values\n",
    "# creating a 'correct' column\n",
    "results['correct'] = results['actual'] == results['predicted']\n",
    "\n",
    "# evaluating the errors\n",
    "results[results['correct'] == False]"
   ]
  },
  {
   "cell_type": "code",
   "execution_count": 91,
   "metadata": {},
   "outputs": [
    {
     "data": {
      "text/html": [
       "<div>\n",
       "<style scoped>\n",
       "    .dataframe tbody tr th:only-of-type {\n",
       "        vertical-align: middle;\n",
       "    }\n",
       "\n",
       "    .dataframe tbody tr th {\n",
       "        vertical-align: top;\n",
       "    }\n",
       "\n",
       "    .dataframe thead th {\n",
       "        text-align: right;\n",
       "    }\n",
       "</style>\n",
       "<table border=\"1\" class=\"dataframe\">\n",
       "  <thead>\n",
       "    <tr style=\"text-align: right;\">\n",
       "      <th></th>\n",
       "      <th>predicted</th>\n",
       "      <th>actual</th>\n",
       "      <th>text</th>\n",
       "      <th>correct</th>\n",
       "    </tr>\n",
       "  </thead>\n",
       "  <tbody>\n",
       "    <tr>\n",
       "      <th>0</th>\n",
       "      <td>1</td>\n",
       "      <td>0</td>\n",
       "      <td>Im so excited good god</td>\n",
       "      <td>False</td>\n",
       "    </tr>\n",
       "    <tr>\n",
       "      <th>9</th>\n",
       "      <td>1</td>\n",
       "      <td>0</td>\n",
       "      <td>I've pain at several of my joints : knees, elb...</td>\n",
       "      <td>False</td>\n",
       "    </tr>\n",
       "    <tr>\n",
       "      <th>16</th>\n",
       "      <td>1</td>\n",
       "      <td>0</td>\n",
       "      <td>So here's the rundown, I used to love cartoons...</td>\n",
       "      <td>False</td>\n",
       "    </tr>\n",
       "    <tr>\n",
       "      <th>18</th>\n",
       "      <td>1</td>\n",
       "      <td>0</td>\n",
       "      <td>What is the easiest, painless way to kill myself?</td>\n",
       "      <td>False</td>\n",
       "    </tr>\n",
       "    <tr>\n",
       "      <th>23</th>\n",
       "      <td>1</td>\n",
       "      <td>0</td>\n",
       "      <td>Struggling.\\n\\nDelusions.\\n\\nTough.\\n\\nIt is r...</td>\n",
       "      <td>False</td>\n",
       "    </tr>\n",
       "    <tr>\n",
       "      <th>34</th>\n",
       "      <td>1</td>\n",
       "      <td>0</td>\n",
       "      <td>I'm not really sure what I'm posting for. Vent...</td>\n",
       "      <td>False</td>\n",
       "    </tr>\n",
       "    <tr>\n",
       "      <th>47</th>\n",
       "      <td>1</td>\n",
       "      <td>0</td>\n",
       "      <td>Hello everyone, I'm a 16-year-old boy and rece...</td>\n",
       "      <td>False</td>\n",
       "    </tr>\n",
       "    <tr>\n",
       "      <th>67</th>\n",
       "      <td>1</td>\n",
       "      <td>0</td>\n",
       "      <td>I've always been obsessed with how quickly tim...</td>\n",
       "      <td>False</td>\n",
       "    </tr>\n",
       "    <tr>\n",
       "      <th>72</th>\n",
       "      <td>1</td>\n",
       "      <td>0</td>\n",
       "      <td>Hi, \\n\\nMy(23f) fiance (28m) is an athlete. He...</td>\n",
       "      <td>False</td>\n",
       "    </tr>\n",
       "    <tr>\n",
       "      <th>86</th>\n",
       "      <td>1</td>\n",
       "      <td>0</td>\n",
       "      <td>Hello! \\n\\n*Sorry for this post. I'm venting a...</td>\n",
       "      <td>False</td>\n",
       "    </tr>\n",
       "    <tr>\n",
       "      <th>139</th>\n",
       "      <td>1</td>\n",
       "      <td>0</td>\n",
       "      <td>For example, I want to take pictures or a vide...</td>\n",
       "      <td>False</td>\n",
       "    </tr>\n",
       "    <tr>\n",
       "      <th>141</th>\n",
       "      <td>1</td>\n",
       "      <td>0</td>\n",
       "      <td>I went to my primary care physician the other ...</td>\n",
       "      <td>False</td>\n",
       "    </tr>\n",
       "    <tr>\n",
       "      <th>152</th>\n",
       "      <td>1</td>\n",
       "      <td>0</td>\n",
       "      <td>Imagine being able to hang out with your frien...</td>\n",
       "      <td>False</td>\n",
       "    </tr>\n",
       "    <tr>\n",
       "      <th>179</th>\n",
       "      <td>1</td>\n",
       "      <td>0</td>\n",
       "      <td>I started a master's in September at a new uni...</td>\n",
       "      <td>False</td>\n",
       "    </tr>\n",
       "    <tr>\n",
       "      <th>184</th>\n",
       "      <td>1</td>\n",
       "      <td>0</td>\n",
       "      <td>Around 8 months ago I had a pretty private men...</td>\n",
       "      <td>False</td>\n",
       "    </tr>\n",
       "    <tr>\n",
       "      <th>197</th>\n",
       "      <td>1</td>\n",
       "      <td>0</td>\n",
       "      <td>for years, my new years resolution was simple....</td>\n",
       "      <td>False</td>\n",
       "    </tr>\n",
       "    <tr>\n",
       "      <th>210</th>\n",
       "      <td>1</td>\n",
       "      <td>0</td>\n",
       "      <td>I've been fighting myself for too long. With t...</td>\n",
       "      <td>False</td>\n",
       "    </tr>\n",
       "    <tr>\n",
       "      <th>247</th>\n",
       "      <td>1</td>\n",
       "      <td>0</td>\n",
       "      <td>I have been so restless the last few days. Mid...</td>\n",
       "      <td>False</td>\n",
       "    </tr>\n",
       "    <tr>\n",
       "      <th>256</th>\n",
       "      <td>1</td>\n",
       "      <td>0</td>\n",
       "      <td>I am a freshman in college right now, and I am...</td>\n",
       "      <td>False</td>\n",
       "    </tr>\n",
       "    <tr>\n",
       "      <th>263</th>\n",
       "      <td>1</td>\n",
       "      <td>0</td>\n",
       "      <td>Just saw pictures of my ex bf proposal pics on...</td>\n",
       "      <td>False</td>\n",
       "    </tr>\n",
       "    <tr>\n",
       "      <th>272</th>\n",
       "      <td>1</td>\n",
       "      <td>0</td>\n",
       "      <td>There has been a robbery in my building last w...</td>\n",
       "      <td>False</td>\n",
       "    </tr>\n",
       "    <tr>\n",
       "      <th>273</th>\n",
       "      <td>1</td>\n",
       "      <td>0</td>\n",
       "      <td>Disclaimer: I'm in Argentina and here 4G data ...</td>\n",
       "      <td>False</td>\n",
       "    </tr>\n",
       "    <tr>\n",
       "      <th>277</th>\n",
       "      <td>1</td>\n",
       "      <td>0</td>\n",
       "      <td>The times when you asked me to go out in town....</td>\n",
       "      <td>False</td>\n",
       "    </tr>\n",
       "    <tr>\n",
       "      <th>285</th>\n",
       "      <td>1</td>\n",
       "      <td>0</td>\n",
       "      <td>I've been going to therapy for about 6 years n...</td>\n",
       "      <td>False</td>\n",
       "    </tr>\n",
       "    <tr>\n",
       "      <th>290</th>\n",
       "      <td>1</td>\n",
       "      <td>0</td>\n",
       "      <td>Or what are the pitfalls?</td>\n",
       "      <td>False</td>\n",
       "    </tr>\n",
       "  </tbody>\n",
       "</table>\n",
       "</div>"
      ],
      "text/plain": [
       "     predicted  actual                                               text  \\\n",
       "0            1       0                             Im so excited good god   \n",
       "9            1       0  I've pain at several of my joints : knees, elb...   \n",
       "16           1       0  So here's the rundown, I used to love cartoons...   \n",
       "18           1       0  What is the easiest, painless way to kill myself?   \n",
       "23           1       0  Struggling.\\n\\nDelusions.\\n\\nTough.\\n\\nIt is r...   \n",
       "34           1       0  I'm not really sure what I'm posting for. Vent...   \n",
       "47           1       0  Hello everyone, I'm a 16-year-old boy and rece...   \n",
       "67           1       0  I've always been obsessed with how quickly tim...   \n",
       "72           1       0  Hi, \\n\\nMy(23f) fiance (28m) is an athlete. He...   \n",
       "86           1       0  Hello! \\n\\n*Sorry for this post. I'm venting a...   \n",
       "139          1       0  For example, I want to take pictures or a vide...   \n",
       "141          1       0  I went to my primary care physician the other ...   \n",
       "152          1       0  Imagine being able to hang out with your frien...   \n",
       "179          1       0  I started a master's in September at a new uni...   \n",
       "184          1       0  Around 8 months ago I had a pretty private men...   \n",
       "197          1       0  for years, my new years resolution was simple....   \n",
       "210          1       0  I've been fighting myself for too long. With t...   \n",
       "247          1       0  I have been so restless the last few days. Mid...   \n",
       "256          1       0  I am a freshman in college right now, and I am...   \n",
       "263          1       0  Just saw pictures of my ex bf proposal pics on...   \n",
       "272          1       0  There has been a robbery in my building last w...   \n",
       "273          1       0  Disclaimer: I'm in Argentina and here 4G data ...   \n",
       "277          1       0  The times when you asked me to go out in town....   \n",
       "285          1       0  I've been going to therapy for about 6 years n...   \n",
       "290          1       0                          Or what are the pitfalls?   \n",
       "\n",
       "     correct  \n",
       "0      False  \n",
       "9      False  \n",
       "16     False  \n",
       "18     False  \n",
       "23     False  \n",
       "34     False  \n",
       "47     False  \n",
       "67     False  \n",
       "72     False  \n",
       "86     False  \n",
       "139    False  \n",
       "141    False  \n",
       "152    False  \n",
       "179    False  \n",
       "184    False  \n",
       "197    False  \n",
       "210    False  \n",
       "247    False  \n",
       "256    False  \n",
       "263    False  \n",
       "272    False  \n",
       "273    False  \n",
       "277    False  \n",
       "285    False  \n",
       "290    False  "
      ]
     },
     "execution_count": 91,
     "metadata": {},
     "output_type": "execute_result"
    }
   ],
   "source": [
    "subset = results[(results['correct'] == False) & (results['predicted'] ==1)]\n",
    "subset.head(25)"
   ]
  },
  {
   "cell_type": "code",
   "execution_count": 75,
   "metadata": {},
   "outputs": [
    {
     "data": {
      "text/plain": [
       "'I think I am. I don’t know what it is yet though. The universe? I know that seems crazy but it’s the only thing that’s ever made sense to me. So for now, I will put my trust into the universe and know that it has a plan. \\nI am just one very small part of this grand with the ability to make huge waves. I am the ocean. I am not sure if I’m experiencing the calm before or after the storm. But I know that there was a storm. A big one. And it was ugly. It must be after. Man, I hope it’s after.'"
      ]
     },
     "execution_count": 75,
     "metadata": {},
     "output_type": "execute_result"
    }
   ],
   "source": [
    "# example of a post that was predicted 'anxiety' but was actually 'depression'\n",
    "results['text'].loc[933]"
   ]
  },
  {
   "cell_type": "code",
   "execution_count": 95,
   "metadata": {},
   "outputs": [
    {
     "data": {
      "text/plain": [
       "\"Around 8 months ago I had a pretty private mental breakdown, quit seeing my therapist and ghosted every single one of my friends. I've just thought i was a major loser ever since i dropped out 2 yrs ago and shit keeps going down hill. I don't consider myself to have bad self esteem or even to be depressed since this breakdown; I just see myself for who I am now. Regardless I cry daily at the drop of the hat and my anxiety can be so severe that I sleep in the stairwell of my apartment complex for weeks to avoid my roommates. Life with no one to talk to or hang out with has changed me into an alien.  I still laugh at youtube and memes and have semi-meaningful conversations but I don't feel like I can feel emotion like I used to. Long bouts of staying in bed crying or smoking weed and drinking used to be my way of coping, but since ghosting everyone I have no way of even getting alchohol so I just work and sleep. Nothing matters. I'm not sure what this would be considered and I'm wondering if anyone has experienced similar symptoms.\""
      ]
     },
     "execution_count": 95,
     "metadata": {},
     "output_type": "execute_result"
    }
   ],
   "source": [
    "results['text'].loc[184]"
   ]
  },
  {
   "cell_type": "code",
   "execution_count": 26,
   "metadata": {},
   "outputs": [
    {
     "data": {
      "image/png": "[encoded data removed]",
      "text/plain": [
       "<Figure size 576x576 with 1 Axes>"
      ]
     },
     "metadata": {
      "needs_background": "light"
     },
     "output_type": "display_data"
    }
   ],
   "source": [
    "# setting a logistic regression variable as grid search does not hav a coef object\n",
    "logreg_coef = gs_logreg.best_estimator_.named_steps.logreg.coef_\n",
    "\n",
    "fig , ax = plt.subplots(figsize=(8,8))\n",
    "\n",
    "coef_df = pd.DataFrame(logreg_coef, columns=cvec.get_feature_names()).T\n",
    "coef_df['ABS'] = coef_df[0].abs()\n",
    "coef_df.sort_values('ABS').tail(20).loc[:,0].plot.barh(ax=ax);"
   ]
  },
  {
   "cell_type": "markdown",
   "metadata": {},
   "source": [
    "## Model with TFIDF Vectorizer and Gaussian Bayes"
   ]
  },
  {
   "cell_type": "code",
   "execution_count": 27,
   "metadata": {},
   "outputs": [],
   "source": [
    "# performing a new train test split\n",
    "X_train, X_test, y_train, y_test = train_test_split(X, y, random_state=10011, \n",
    "                                                    stratify=y,)"
   ]
  },
  {
   "cell_type": "code",
   "execution_count": 28,
   "metadata": {},
   "outputs": [],
   "source": [
    "tvec = TfidfVectorizer()\n",
    "tvec.fit(X_train, y_train)\n",
    "\n",
    "X_train_tvec = tvec.transform(X_train).todense()\n",
    "X_test_tvec = tvec.transform(X_test).todense()"
   ]
  },
  {
   "cell_type": "code",
   "execution_count": 29,
   "metadata": {},
   "outputs": [
    {
     "name": "stdout",
     "output_type": "stream",
     "text": [
      "Training accuracy score for our Gaussian Naive Bayes model is: 0.9396.\n",
      "\n",
      "Testing accuracy score for our Gaussian Naive Bayes model is: 0.6393.\n"
     ]
    }
   ],
   "source": [
    "# Instantiate Gaussian Naive Bayes model.\n",
    "gnb = GaussianNB()\n",
    "\n",
    "# fit TfidfVectorized() variables to the Gaussian Bayes model\n",
    "gnb.fit(X_train_tvec, y_train)\n",
    "\n",
    "print(f'Training accuracy score for our Gaussian Naive Bayes model is: \\\n",
    "{round(gnb.score(X_train_tvec, y_train),4)}.')\n",
    "print()\n",
    "print(f'Testing accuracy score for our Gaussian Naive Bayes model is: {round(gnb.score(X_test_tvec, y_test),4)}.')"
   ]
  },
  {
   "cell_type": "code",
   "execution_count": 30,
   "metadata": {},
   "outputs": [
    {
     "data": {
      "image/png": "[encoded data removed]",
      "text/plain": [
       "<Figure size 504x648 with 1 Axes>"
      ]
     },
     "metadata": {
      "needs_background": "light"
     },
     "output_type": "display_data"
    }
   ],
   "source": [
    "gnb_predictions = gnb.predict(X_test_tvec)\n",
    "\n",
    "plt.figure(figsize=(7,9))\n",
    "cm = confusion_matrix(y_test, gnb_predictions)\n",
    "sns.heatmap(cm, square=True, annot=True, cbar=False, fmt='g', cmap='YlGnBu',\n",
    "xticklabels=['Prediction: Anxiety', 'Prediction: Depression'],\n",
    "            yticklabels=['Actual: Anxiety', 'Actual: Depression'])\n",
    "plt.xlabel('True Values')\n",
    "plt.ylabel('Predictions');"
   ]
  },
  {
   "cell_type": "code",
   "execution_count": 31,
   "metadata": {},
   "outputs": [
    {
     "data": {
      "text/html": [
       "<div>\n",
       "<style scoped>\n",
       "    .dataframe tbody tr th:only-of-type {\n",
       "        vertical-align: middle;\n",
       "    }\n",
       "\n",
       "    .dataframe tbody tr th {\n",
       "        vertical-align: top;\n",
       "    }\n",
       "\n",
       "    .dataframe thead th {\n",
       "        text-align: right;\n",
       "    }\n",
       "</style>\n",
       "<table border=\"1\" class=\"dataframe\">\n",
       "  <thead>\n",
       "    <tr style=\"text-align: right;\">\n",
       "      <th></th>\n",
       "      <th>predicted</th>\n",
       "      <th>actual</th>\n",
       "      <th>text</th>\n",
       "      <th>correct</th>\n",
       "    </tr>\n",
       "  </thead>\n",
       "  <tbody>\n",
       "    <tr>\n",
       "      <th>2</th>\n",
       "      <td>1</td>\n",
       "      <td>0</td>\n",
       "      <td>I’m sixteen. Junior in high school. Last week ...</td>\n",
       "      <td>False</td>\n",
       "    </tr>\n",
       "    <tr>\n",
       "      <th>5</th>\n",
       "      <td>1</td>\n",
       "      <td>0</td>\n",
       "      <td>So I start a new job tomorrow (I guess today a...</td>\n",
       "      <td>False</td>\n",
       "    </tr>\n",
       "    <tr>\n",
       "      <th>6</th>\n",
       "      <td>0</td>\n",
       "      <td>1</td>\n",
       "      <td>Idk, these past few weeks I’ve been thinking a...</td>\n",
       "      <td>False</td>\n",
       "    </tr>\n",
       "    <tr>\n",
       "      <th>7</th>\n",
       "      <td>0</td>\n",
       "      <td>1</td>\n",
       "      <td>I remember when i was happy, i remember waking...</td>\n",
       "      <td>False</td>\n",
       "    </tr>\n",
       "    <tr>\n",
       "      <th>8</th>\n",
       "      <td>0</td>\n",
       "      <td>1</td>\n",
       "      <td>I feel like I've been hanging on by a thread, ...</td>\n",
       "      <td>False</td>\n",
       "    </tr>\n",
       "    <tr>\n",
       "      <th>...</th>\n",
       "      <td>...</td>\n",
       "      <td>...</td>\n",
       "      <td>...</td>\n",
       "      <td>...</td>\n",
       "    </tr>\n",
       "    <tr>\n",
       "      <th>939</th>\n",
       "      <td>1</td>\n",
       "      <td>0</td>\n",
       "      <td>Sorry for the wall of text! I tried to make it...</td>\n",
       "      <td>False</td>\n",
       "    </tr>\n",
       "    <tr>\n",
       "      <th>943</th>\n",
       "      <td>1</td>\n",
       "      <td>0</td>\n",
       "      <td>blank post</td>\n",
       "      <td>False</td>\n",
       "    </tr>\n",
       "    <tr>\n",
       "      <th>944</th>\n",
       "      <td>0</td>\n",
       "      <td>1</td>\n",
       "      <td>I realised that with depression , I rarely get...</td>\n",
       "      <td>False</td>\n",
       "    </tr>\n",
       "    <tr>\n",
       "      <th>947</th>\n",
       "      <td>1</td>\n",
       "      <td>0</td>\n",
       "      <td>I'm back at work today after the long Thanksgi...</td>\n",
       "      <td>False</td>\n",
       "    </tr>\n",
       "    <tr>\n",
       "      <th>948</th>\n",
       "      <td>0</td>\n",
       "      <td>1</td>\n",
       "      <td>I never really had anything to do even when I ...</td>\n",
       "      <td>False</td>\n",
       "    </tr>\n",
       "  </tbody>\n",
       "</table>\n",
       "<p>343 rows × 4 columns</p>\n",
       "</div>"
      ],
      "text/plain": [
       "     predicted  actual                                               text  \\\n",
       "2            1       0  I’m sixteen. Junior in high school. Last week ...   \n",
       "5            1       0  So I start a new job tomorrow (I guess today a...   \n",
       "6            0       1  Idk, these past few weeks I’ve been thinking a...   \n",
       "7            0       1  I remember when i was happy, i remember waking...   \n",
       "8            0       1  I feel like I've been hanging on by a thread, ...   \n",
       "..         ...     ...                                                ...   \n",
       "939          1       0  Sorry for the wall of text! I tried to make it...   \n",
       "943          1       0                                         blank post   \n",
       "944          0       1  I realised that with depression , I rarely get...   \n",
       "947          1       0  I'm back at work today after the long Thanksgi...   \n",
       "948          0       1  I never really had anything to do even when I ...   \n",
       "\n",
       "     correct  \n",
       "2      False  \n",
       "5      False  \n",
       "6      False  \n",
       "7      False  \n",
       "8      False  \n",
       "..       ...  \n",
       "939    False  \n",
       "943    False  \n",
       "944    False  \n",
       "947    False  \n",
       "948    False  \n",
       "\n",
       "[343 rows x 4 columns]"
      ]
     },
     "execution_count": 31,
     "metadata": {},
     "output_type": "execute_result"
    }
   ],
   "source": [
    "## what posts were misclassified?\n",
    "# Create DataFrame with column for predicted values.\n",
    "results = pd.DataFrame(gnb.predict(X_test_tvec), columns=['predicted'])\n",
    "\n",
    "# Create column for observed values.\n",
    "results['actual'] = y_test.values\n",
    "# add original text to the results df\n",
    "results['text'] = X_test.values\n",
    "# creating a 'correct' column\n",
    "results['correct'] = results['actual'] == results['predicted']\n",
    "\n",
    "# evaluating the errors\n",
    "results[results['correct'] == False]"
   ]
  },
  {
   "cell_type": "code",
   "execution_count": 32,
   "metadata": {},
   "outputs": [
    {
     "data": {
      "text/plain": [
       "'Some days, especially days I’m off of work I have little to no motivation. Personally, I just want to hop in the car and drive to walk into a store without having taken a shower and being a complete mess. It started out with my feelings getting hurt unintentionally through a phone call which lead me to tears. I’m on medication which seems to work on my good days lol. Anyway, I’m hoping I’ll be able to get up from this chair and get outside'"
      ]
     },
     "execution_count": 32,
     "metadata": {},
     "output_type": "execute_result"
    }
   ],
   "source": [
    "# example of a post that was predicted 'anxiety' but was actually 'depression'\n",
    "results['text'].loc[938]"
   ]
  },
  {
   "cell_type": "markdown",
   "metadata": {},
   "source": [
    "### SKLearn Bagging "
   ]
  },
  {
   "cell_type": "code",
   "execution_count": 33,
   "metadata": {},
   "outputs": [],
   "source": [
    "X_train, X_test, y_train, y_test = train_test_split(X, y, random_state=10003)"
   ]
  },
  {
   "cell_type": "code",
   "execution_count": 34,
   "metadata": {},
   "outputs": [],
   "source": [
    "bag = BaggingClassifier(random_state=42)\n",
    "cvec = CountVectorizer()\n",
    "cvec.fit(X_train)\n",
    "\n",
    "X_train_cvec = cvec.transform(X_train).todense()\n",
    "X_test_cvec = cvec.transform(X_test).todense()"
   ]
  },
  {
   "cell_type": "code",
   "execution_count": 35,
   "metadata": {},
   "outputs": [
    {
     "data": {
      "text/plain": [
       "BaggingClassifier(base_estimator=None, bootstrap=True, bootstrap_features=False,\n",
       "                  max_features=1.0, max_samples=1.0, n_estimators=10,\n",
       "                  n_jobs=None, oob_score=False, random_state=42, verbose=0,\n",
       "                  warm_start=False)"
      ]
     },
     "execution_count": 35,
     "metadata": {},
     "output_type": "execute_result"
    }
   ],
   "source": [
    "# Fit BaggingClassifier.\n",
    "bag.fit(X_train_cvec, y_train)"
   ]
  },
  {
   "cell_type": "code",
   "execution_count": 36,
   "metadata": {},
   "outputs": [
    {
     "name": "stdout",
     "output_type": "stream",
     "text": [
      "Training accuracy score for our Bagging Classifier model is: 0.9765.\n",
      "\n",
      "Testing accuracy score for our Bagging Classifier model is: 0.8191.\n"
     ]
    }
   ],
   "source": [
    "print(f'Training accuracy score for our Bagging Classifier model is: \\\n",
    "{round(bag.score(X_train_cvec, y_train),4)}.')\n",
    "print()\n",
    "print(f'Testing accuracy score for our Bagging Classifier model is: {round(bag.score(X_test_cvec, y_test),4)}.')"
   ]
  },
  {
   "cell_type": "code",
   "execution_count": 37,
   "metadata": {},
   "outputs": [
    {
     "data": {
      "image/png": "[encoded data removed]",
      "text/plain": [
       "<Figure size 504x648 with 1 Axes>"
      ]
     },
     "metadata": {
      "needs_background": "light"
     },
     "output_type": "display_data"
    }
   ],
   "source": [
    "bag_predictions = bag.predict(X_test_cvec)\n",
    "\n",
    "plt.figure(figsize=(7,9))\n",
    "cm = confusion_matrix(y_test, bag_predictions)\n",
    "sns.heatmap(cm, square=True, annot=True, cbar=False, fmt='g', cmap='YlGnBu',\n",
    "xticklabels=['Prediction: Anxiety', 'Prediction: Depression'],\n",
    "            yticklabels=['Actual: Anxiety', 'Actual: Depression'])\n",
    "plt.xlabel('True Values')\n",
    "plt.ylabel('Predictions');"
   ]
  },
  {
   "cell_type": "code",
   "execution_count": 38,
   "metadata": {},
   "outputs": [
    {
     "data": {
      "text/html": [
       "<div>\n",
       "<style scoped>\n",
       "    .dataframe tbody tr th:only-of-type {\n",
       "        vertical-align: middle;\n",
       "    }\n",
       "\n",
       "    .dataframe tbody tr th {\n",
       "        vertical-align: top;\n",
       "    }\n",
       "\n",
       "    .dataframe thead th {\n",
       "        text-align: right;\n",
       "    }\n",
       "</style>\n",
       "<table border=\"1\" class=\"dataframe\">\n",
       "  <thead>\n",
       "    <tr style=\"text-align: right;\">\n",
       "      <th></th>\n",
       "      <th>predicted</th>\n",
       "      <th>actual</th>\n",
       "      <th>text</th>\n",
       "      <th>correct</th>\n",
       "    </tr>\n",
       "  </thead>\n",
       "  <tbody>\n",
       "    <tr>\n",
       "      <th>4</th>\n",
       "      <td>0</td>\n",
       "      <td>1</td>\n",
       "      <td>literally feels like a mesh or infection aroun...</td>\n",
       "      <td>False</td>\n",
       "    </tr>\n",
       "    <tr>\n",
       "      <th>15</th>\n",
       "      <td>1</td>\n",
       "      <td>0</td>\n",
       "      <td>I have a friend who plays football at a divisi...</td>\n",
       "      <td>False</td>\n",
       "    </tr>\n",
       "    <tr>\n",
       "      <th>18</th>\n",
       "      <td>0</td>\n",
       "      <td>1</td>\n",
       "      <td>I thought everyone have the same experiences, ...</td>\n",
       "      <td>False</td>\n",
       "    </tr>\n",
       "    <tr>\n",
       "      <th>29</th>\n",
       "      <td>0</td>\n",
       "      <td>1</td>\n",
       "      <td>Last academic year I had a disability plan at ...</td>\n",
       "      <td>False</td>\n",
       "    </tr>\n",
       "    <tr>\n",
       "      <th>32</th>\n",
       "      <td>1</td>\n",
       "      <td>0</td>\n",
       "      <td>Today was my final straw for my family and we'...</td>\n",
       "      <td>False</td>\n",
       "    </tr>\n",
       "    <tr>\n",
       "      <th>...</th>\n",
       "      <td>...</td>\n",
       "      <td>...</td>\n",
       "      <td>...</td>\n",
       "      <td>...</td>\n",
       "    </tr>\n",
       "    <tr>\n",
       "      <th>904</th>\n",
       "      <td>1</td>\n",
       "      <td>0</td>\n",
       "      <td>in two years since I have been on lexapro I ha...</td>\n",
       "      <td>False</td>\n",
       "    </tr>\n",
       "    <tr>\n",
       "      <th>906</th>\n",
       "      <td>0</td>\n",
       "      <td>1</td>\n",
       "      <td>so many people are disappointed in me and it m...</td>\n",
       "      <td>False</td>\n",
       "    </tr>\n",
       "    <tr>\n",
       "      <th>929</th>\n",
       "      <td>0</td>\n",
       "      <td>1</td>\n",
       "      <td>blank post</td>\n",
       "      <td>False</td>\n",
       "    </tr>\n",
       "    <tr>\n",
       "      <th>939</th>\n",
       "      <td>0</td>\n",
       "      <td>1</td>\n",
       "      <td>So this started about 6 months ago. I’m not su...</td>\n",
       "      <td>False</td>\n",
       "    </tr>\n",
       "    <tr>\n",
       "      <th>943</th>\n",
       "      <td>1</td>\n",
       "      <td>0</td>\n",
       "      <td>Hey guys, yesterday I went for a walk and got ...</td>\n",
       "      <td>False</td>\n",
       "    </tr>\n",
       "  </tbody>\n",
       "</table>\n",
       "<p>172 rows × 4 columns</p>\n",
       "</div>"
      ],
      "text/plain": [
       "     predicted  actual                                               text  \\\n",
       "4            0       1  literally feels like a mesh or infection aroun...   \n",
       "15           1       0  I have a friend who plays football at a divisi...   \n",
       "18           0       1  I thought everyone have the same experiences, ...   \n",
       "29           0       1  Last academic year I had a disability plan at ...   \n",
       "32           1       0  Today was my final straw for my family and we'...   \n",
       "..         ...     ...                                                ...   \n",
       "904          1       0  in two years since I have been on lexapro I ha...   \n",
       "906          0       1  so many people are disappointed in me and it m...   \n",
       "929          0       1                                         blank post   \n",
       "939          0       1  So this started about 6 months ago. I’m not su...   \n",
       "943          1       0  Hey guys, yesterday I went for a walk and got ...   \n",
       "\n",
       "     correct  \n",
       "4      False  \n",
       "15     False  \n",
       "18     False  \n",
       "29     False  \n",
       "32     False  \n",
       "..       ...  \n",
       "904    False  \n",
       "906    False  \n",
       "929    False  \n",
       "939    False  \n",
       "943    False  \n",
       "\n",
       "[172 rows x 4 columns]"
      ]
     },
     "execution_count": 38,
     "metadata": {},
     "output_type": "execute_result"
    }
   ],
   "source": [
    "# Create DataFrame with column for predicted values.\n",
    "results_bag = pd.DataFrame(bag_predictions, columns=['predicted'])\n",
    "\n",
    "# Create column for observed values.\n",
    "results_bag['actual'] = y_test.values\n",
    "# add original text to the results df\n",
    "results_bag['text'] = X_test.values\n",
    "# creating a 'correct' column\n",
    "results_bag['correct'] = results_bag['actual'] == results_bag['predicted']\n",
    "\n",
    "# evaluating the errors\n",
    "results_bag[results_bag['correct'] == False]"
   ]
  },
  {
   "cell_type": "code",
   "execution_count": 39,
   "metadata": {},
   "outputs": [
    {
     "data": {
      "text/plain": [
       "'I\\'m pretty good on keeping my depression under wraps. I can feel joy and I\\'m usually not super depressed, but its honestly got to me today.\\n\\nI have a few Best Friends. Two here, and one in Chicago. I can\\'t go to Chicago, obviously, seeing that I live hours away. The other two are at parties of their own, and I haven\\'t gotten a text from the one in Chicago. \\n\\nI feel very alone. And its scares me. I feel like a pansy saying that, seeing that I\\'m such a big guy with a lot of care. I want to tell them \"Hey I\\'m not doing very well.\" But they\\'re all drunk or high and I can\\'t actually get my thoughts across to them. \\n\\nHelp.'"
      ]
     },
     "execution_count": 39,
     "metadata": {},
     "output_type": "execute_result"
    }
   ],
   "source": [
    "results_bag['text'].loc[941]"
   ]
  },
  {
   "cell_type": "code",
   "execution_count": 40,
   "metadata": {},
   "outputs": [
    {
     "data": {
      "text/plain": [
       "\"Sorry to rant a bit..\\n\\nI'm trying really hard not to take it personally.. but I just need someone to reassure me that it is just because of depression. Shes been struggling with it for a long time, some days she'll be really affectionate and loving and talk about our future together, then other days she'll not text me till later in the day and will go play video games with other people. I struggle a bit with insecurity too as Im jealous shes hanging with other guys during the day while Im stuck doing homework while she barely replies to me. Our relationship is LDR and when things are good (like the other day) she calls me her soulmate and talks about a family someday and living together. But when she gets depressed and grows distant, I cant help but feel a bit hurt and lonely.. Then I see her playing games with other guys and I get insecure. I told her today that I love her a lot, and she doesn't have to worry about talking to me, as I want her to do what she needs to do to feel better. And that I'll always be here and I love her.  \\n\\n\\nBut its so freaking hard not to feel hurt and alone.. I want to message her more and tell her I love her but I dont want to keep pushing her when shes barely been responding to me the last two days.. How can I be more reassured that shes just depressed and this is normal. I keep bouncing between my insecurities and trying to force myself to seriously believe that yes, shes depressed.. she needs space.. its normal.. she doesnt want to hurt the ones closest to her.. but It just makes me jealous and frustrated seeing her with others :(. \\n\\n&amp;#x200B;\\n\\ntl;dr: Is it normal for a depressed partner to push away those closest to them.. and how do I cope and feel reassured when she gets distant?\""
      ]
     },
     "execution_count": 40,
     "metadata": {},
     "output_type": "execute_result"
    }
   ],
   "source": [
    "results_bag['text'].loc[949]"
   ]
  }
 ],
 "metadata": {
  "kernelspec": {
   "display_name": "Python 3",
   "language": "python",
   "name": "python3"
  },
  "language_info": {
   "codemirror_mode": {
    "name": "ipython",
    "version": 3
   },
   "file_extension": ".py",
   "mimetype": "text/x-python",
   "name": "python",
   "nbconvert_exporter": "python",
   "pygments_lexer": "ipython3",
   "version": "3.7.4"
  }
 },
 "nbformat": 4,
 "nbformat_minor": 2
}
