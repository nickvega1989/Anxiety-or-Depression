{
 "cells": [
  {
   "cell_type": "markdown",
   "metadata": {},
   "source": [
    "## Import Relevant Packages / Libraries"
   ]
  },
  {
   "cell_type": "code",
   "execution_count": 1,
   "metadata": {},
   "outputs": [],
   "source": [
    "import warnings\n",
    "warnings.filterwarnings('ignore')"
   ]
  },
  {
   "cell_type": "code",
   "execution_count": 2,
   "metadata": {},
   "outputs": [],
   "source": [
    "import pandas as pd\n",
    "pd.set_option('max_columns', 75)\n",
    "import requests\n",
    "import json"
   ]
  },
  {
   "cell_type": "markdown",
   "metadata": {},
   "source": [
    "## Data Acquisition  - Depression Subreddit"
   ]
  },
  {
   "cell_type": "code",
   "execution_count": 3,
   "metadata": {},
   "outputs": [
    {
     "name": "stdout",
     "output_type": "stream",
     "text": [
      "200\n",
      "200\n"
     ]
    }
   ],
   "source": [
    "# first pull from depression subreddit\n",
    "base_url_submissions = 'https://api.pushshift.io/reddit/search/submission/?'\n",
    "base_url_comment = 'https://api.pushshift.io/reddit/search/comment/?'\n",
    "\n",
    "params_depression = {\n",
    "    'subreddit': 'depression',\n",
    "    'is_video': 'false',\n",
    "    'size': 500, # can set a maximum pull of 500\n",
    "    'after': '30d',\n",
    "    'metadata':'false'\n",
    "}\n",
    "\n",
    "depression_res_submissions = requests.get(base_url_submissions, params_depression)\n",
    "depression_res_comment = requests.get(base_url_comment, params_depression)\n",
    "\n",
    "# Confirming that requests are valid\n",
    "print(depression_res_submissions.status_code)\n",
    "print(depression_res_comment.status_code)"
   ]
  },
  {
   "cell_type": "code",
   "execution_count": 4,
   "metadata": {},
   "outputs": [],
   "source": [
    "# converting first depression pull into a dataframe\n",
    "depression_df_submissions = pd.DataFrame(depression_res_submissions.json()['data'])"
   ]
  },
  {
   "cell_type": "code",
   "execution_count": 5,
   "metadata": {},
   "outputs": [
    {
     "name": "stdout",
     "output_type": "stream",
     "text": [
      "200\n",
      "\n"
     ]
    }
   ],
   "source": [
    "# second pull from the depression subreddit\n",
    "base_url_submissions_2 = 'https://api.pushshift.io/reddit/search/submission/?'\n",
    "base_url_comment_2 = 'https://api.pushshift.io/reddit/search/comment/?'\n",
    "\n",
    "params_depression_2 = {\n",
    "    'subreddit': 'depression',\n",
    "    'is_video': 'false',\n",
    "    'size': 500, # can set a maximum pull of 500\n",
    "    'after': '60d',\n",
    "    'metadata':'false'\n",
    "}\n",
    "\n",
    "depression_res_submissions_2 = requests.get(base_url_submissions_2, params_depression_2)\n",
    "depression_res_comment_2 = requests.get(base_url_comment_2, params_depression_2)\n",
    "\n",
    "# Confirming that requests are valid\n",
    "print(depression_res_submissions_2.status_code)\n",
    "print()"
   ]
  },
  {
   "cell_type": "code",
   "execution_count": 6,
   "metadata": {},
   "outputs": [],
   "source": [
    "# converting second depression pull into a dataframe\n",
    "depression_df_submissions_2 = pd.DataFrame(depression_res_submissions_2.json()['data'])"
   ]
  },
  {
   "cell_type": "code",
   "execution_count": 7,
   "metadata": {},
   "outputs": [
    {
     "name": "stdout",
     "output_type": "stream",
     "text": [
      "200\n"
     ]
    }
   ],
   "source": [
    "# third pull from depression sub-reddit\n",
    "base_url_submissions_3 = 'https://api.pushshift.io/reddit/search/submission/?'\n",
    "base_url_comment_3 = 'https://api.pushshift.io/reddit/search/comment/?'\n",
    "\n",
    "params_depression_3 = {\n",
    "    'subreddit': 'depression',\n",
    "    'is_video': 'false',\n",
    "    'size': 500, # can set a maximum pull of 500\n",
    "    'after': '90d',\n",
    "    'metadata':'false'\n",
    "}\n",
    "\n",
    "depression_res_submissions_3 = requests.get(base_url_submissions_3, params_depression_3)\n",
    "depression_res_comment_3 = requests.get(base_url_comment_3, params_depression_3)\n",
    "\n",
    "# confirming that requests are valid\n",
    "print(depression_res_submissions_3.status_code)"
   ]
  },
  {
   "cell_type": "code",
   "execution_count": 8,
   "metadata": {},
   "outputs": [],
   "source": [
    "# converting third depression pull into a dataframe\n",
    "depression_df_submissions_3 = pd.DataFrame(depression_res_submissions_3.json()['data'])"
   ]
  },
  {
   "cell_type": "code",
   "execution_count": 9,
   "metadata": {},
   "outputs": [
    {
     "name": "stdout",
     "output_type": "stream",
     "text": [
      "200\n"
     ]
    }
   ],
   "source": [
    "# fourth pull from depression sub-reddit\n",
    "base_url_submissions_4 = 'https://api.pushshift.io/reddit/search/submission/?'\n",
    "base_url_comment_4 = 'https://api.pushshift.io/reddit/search/comment/?'\n",
    "\n",
    "params_depression_4 = {\n",
    "    'subreddit': 'depression',\n",
    "    'is_video': 'false',\n",
    "    'size': 500, # can set a maximum pull of 500\n",
    "    'after': '120d',\n",
    "    'metadata':'false'\n",
    "}\n",
    "\n",
    "depression_res_submissions_4 = requests.get(base_url_submissions_4, params_depression_4)\n",
    "depression_res_comment_4 = requests.get(base_url_comment_4, params_depression_4)\n",
    "\n",
    "# confirming request is valid:\n",
    "print(depression_res_submissions_4.status_code)"
   ]
  },
  {
   "cell_type": "code",
   "execution_count": 10,
   "metadata": {},
   "outputs": [],
   "source": [
    "# converting fourth pull into a dataframe\n",
    "depression_df_submissions_4 = pd.DataFrame(depression_res_submissions_4.json()['data'])"
   ]
  },
  {
   "cell_type": "code",
   "execution_count": 11,
   "metadata": {},
   "outputs": [
    {
     "data": {
      "text/plain": [
       "depression    2000\n",
       "Name: target, dtype: int64"
      ]
     },
     "execution_count": 11,
     "metadata": {},
     "output_type": "execute_result"
    }
   ],
   "source": [
    "# merging all pulls into one master dataframe 'depression_all'\n",
    "depression_all = pd.concat([depression_df_submissions, depression_df_submissions_2, \n",
    "                            depression_df_submissions_3, depression_df_submissions_4])\n",
    "\n",
    "#creating a 'target' column to signify all the data in this column came from the 'depression' sub-reddit\n",
    "# which will be used for our target variable later\n",
    "depression_all['target'] = 'depression'\n",
    "# inspecting values of the target variable\n",
    "depression_all['target'].value_counts()"
   ]
  },
  {
   "cell_type": "code",
   "execution_count": 12,
   "metadata": {},
   "outputs": [
    {
     "data": {
      "text/plain": [
       "(2000, 68)"
      ]
     },
     "execution_count": 12,
     "metadata": {},
     "output_type": "execute_result"
    }
   ],
   "source": [
    "# inspecting shape of the dataframe as a whole\n",
    "depression_all.shape"
   ]
  },
  {
   "cell_type": "code",
   "execution_count": 13,
   "metadata": {},
   "outputs": [
    {
     "data": {
      "text/plain": [
       "Index(['all_awardings', 'allow_live_comments', 'author', 'author_cakeday',\n",
       "       'author_flair_background_color', 'author_flair_css_class',\n",
       "       'author_flair_richtext', 'author_flair_text', 'author_flair_text_color',\n",
       "       'author_flair_type', 'author_fullname', 'author_patreon_flair',\n",
       "       'author_premium', 'awarders', 'banned_by', 'can_mod_post',\n",
       "       'contest_mode', 'created_utc', 'domain', 'full_link', 'gilded',\n",
       "       'gildings', 'id', 'is_crosspostable', 'is_meta', 'is_original_content',\n",
       "       'is_reddit_media_domain', 'is_robot_indexable', 'is_self', 'is_video',\n",
       "       'link_flair_background_color', 'link_flair_richtext',\n",
       "       'link_flair_text_color', 'link_flair_type', 'locked', 'media_only',\n",
       "       'no_follow', 'num_comments', 'num_crossposts', 'over_18',\n",
       "       'parent_whitelist_status', 'permalink', 'pinned', 'post_hint',\n",
       "       'preview', 'pwls', 'removed_by', 'removed_by_category', 'retrieved_on',\n",
       "       'score', 'selftext', 'send_replies', 'spoiler', 'steward_reports',\n",
       "       'stickied', 'subreddit', 'subreddit_id', 'subreddit_subscribers',\n",
       "       'subreddit_type', 'suggested_sort', 'thumbnail', 'title',\n",
       "       'total_awards_received', 'updated_utc', 'url', 'whitelist_status',\n",
       "       'wls', 'target'],\n",
       "      dtype='object')"
      ]
     },
     "execution_count": 13,
     "metadata": {},
     "output_type": "execute_result"
    }
   ],
   "source": [
    "# evaluating columns for potential inclusion in our features later\n",
    "depression_all.columns"
   ]
  },
  {
   "cell_type": "code",
   "execution_count": 14,
   "metadata": {},
   "outputs": [],
   "source": [
    "# creating final dataframe with features to be used in our NLP Analysis below\n",
    "depression_final = depression_all[['target', 'selftext', 'title']]"
   ]
  },
  {
   "cell_type": "markdown",
   "metadata": {},
   "source": [
    "## Data Acquisition  - Anxiety Subreddit"
   ]
  },
  {
   "cell_type": "code",
   "execution_count": 15,
   "metadata": {},
   "outputs": [
    {
     "name": "stdout",
     "output_type": "stream",
     "text": [
      "200\n"
     ]
    }
   ],
   "source": [
    "# first pull from the anxiety subreddit\n",
    "base_url_submissions = 'https://api.pushshift.io/reddit/search/submission/?'\n",
    "base_url_comment = 'https://api.pushshift.io/reddit/search/comment/?'\n",
    "\n",
    "params_anxiety = {\n",
    "    'subreddit': 'anxiety',\n",
    "    'is_video': 'false',\n",
    "    'size': 500, # can set a maximum pull of 500\n",
    "    'after': '30d',\n",
    "    'metadata':'false'\n",
    "}\n",
    "\n",
    "anxiety_res_submissions = requests.get(base_url_submissions, params_anxiety)\n",
    "anxiety_res_comment = requests.get(base_url_comment, params_anxiety)\n",
    "\n",
    "#confirming the requests is valid\n",
    "print(anxiety_res_submissions.status_code)"
   ]
  },
  {
   "cell_type": "code",
   "execution_count": 16,
   "metadata": {},
   "outputs": [],
   "source": [
    "# converting first anxiety pull to a dataframe\n",
    "anxiety_df_submissions = pd.DataFrame(anxiety_res_submissions.json()['data'])"
   ]
  },
  {
   "cell_type": "code",
   "execution_count": 17,
   "metadata": {},
   "outputs": [
    {
     "name": "stdout",
     "output_type": "stream",
     "text": [
      "200\n"
     ]
    }
   ],
   "source": [
    "# second pull from the anxiety subreddit\n",
    "base_url_submissions = 'https://api.pushshift.io/reddit/search/submission/?q'\n",
    "base_url_comment = 'https://api.pushshift.io/reddit/search/comment/?q'\n",
    "\n",
    "params_anxiety_2 = {\n",
    "    'subreddit': 'anxiety',\n",
    "    'is_video': 'false',\n",
    "    'size': 500, # can set a maximum pull of 500\n",
    "    'after': '60d',\n",
    "    'metadata':'false'\n",
    "}\n",
    "\n",
    "anxiety_res_submissions_2 = requests.get(base_url_submissions, params_anxiety_2)\n",
    "anxiety_res_comment_2 = requests.get(base_url_comment, params_anxiety_2)\n",
    "# confirming the request is valid\n",
    "print(anxiety_res_submissions_2.status_code)"
   ]
  },
  {
   "cell_type": "code",
   "execution_count": 18,
   "metadata": {},
   "outputs": [],
   "source": [
    "# converting the second pull to a data frame\n",
    "anxiety_df_submissions_2 = pd.DataFrame(anxiety_res_submissions_2.json()['data'])"
   ]
  },
  {
   "cell_type": "code",
   "execution_count": 19,
   "metadata": {},
   "outputs": [
    {
     "name": "stdout",
     "output_type": "stream",
     "text": [
      "200\n"
     ]
    }
   ],
   "source": [
    "# third pull from the anxiety subreddit\n",
    "base_url_submissions = 'https://api.pushshift.io/reddit/search/submission/?q'\n",
    "base_url_comment = 'https://api.pushshift.io/reddit/search/comment/?q'\n",
    "\n",
    "params_anxiety_3 = {\n",
    "    'subreddit': 'anxiety',\n",
    "    'is_video': 'false',\n",
    "    'size': 500, # can set a maximum pull of 500\n",
    "    'after': '90d',\n",
    "    'metadata':'false'\n",
    "}\n",
    "\n",
    "anxiety_res_submissions_3 = requests.get(base_url_submissions, params_anxiety_3)\n",
    "anxiety_res_comment_3 = requests.get(base_url_comment, params_anxiety_3)\n",
    "# confirming the request is valid\n",
    "print(anxiety_res_submissions_3.status_code)"
   ]
  },
  {
   "cell_type": "code",
   "execution_count": 20,
   "metadata": {},
   "outputs": [],
   "source": [
    "# converting the third pull to a dataframe\n",
    "anxiety_df_submissions_3 = pd.DataFrame(anxiety_res_submissions_3.json()['data'])"
   ]
  },
  {
   "cell_type": "code",
   "execution_count": 21,
   "metadata": {},
   "outputs": [
    {
     "name": "stdout",
     "output_type": "stream",
     "text": [
      "200\n"
     ]
    }
   ],
   "source": [
    "# fourth pull from the anxiety subreddit\n",
    "base_url_submissions = 'https://api.pushshift.io/reddit/search/submission/?q'\n",
    "base_url_comment = 'https://api.pushshift.io/reddit/search/comment/?q'\n",
    "\n",
    "params_anxiety_4 = {\n",
    "    'subreddit': 'anxiety',\n",
    "    'is_video': 'false',\n",
    "    'size': 500, # can set a maximum pull of 500\n",
    "    'after': '120d',\n",
    "    'metadata':'false'\n",
    "}\n",
    "\n",
    "anxiety_res_submissions_4 = requests.get(base_url_submissions, params_anxiety_4)\n",
    "anxiety_res_comment_4 = requests.get(base_url_comment, params_anxiety_4)\n",
    "# confirming the request is valid\n",
    "print(anxiety_res_submissions_4.status_code)"
   ]
  },
  {
   "cell_type": "code",
   "execution_count": 22,
   "metadata": {},
   "outputs": [],
   "source": [
    "# converting the fourth pull to a dataframe\n",
    "anxiety_df_submissions_4 = pd.DataFrame(anxiety_res_submissions_4.json()['data'])"
   ]
  },
  {
   "cell_type": "code",
   "execution_count": 23,
   "metadata": {},
   "outputs": [
    {
     "data": {
      "text/plain": [
       "anxiety    2000\n",
       "Name: target, dtype: int64"
      ]
     },
     "execution_count": 23,
     "metadata": {},
     "output_type": "execute_result"
    }
   ],
   "source": [
    "# creating final dataframe with features to be used in our NLP Analysis below\n",
    "anxiety_all = pd.concat([anxiety_df_submissions, anxiety_df_submissions_2,\n",
    "                        anxiety_df_submissions_3, anxiety_df_submissions_4])\n",
    "#creating a 'target' column to signify all the data in this column came from the 'anxiety' sub-reddit\n",
    "# which will be used for our target variable later\n",
    "anxiety_all['target'] = 'anxiety'\n",
    "# inspecting values of the target variable\n",
    "anxiety_all['target'].value_counts()"
   ]
  },
  {
   "cell_type": "code",
   "execution_count": 24,
   "metadata": {},
   "outputs": [
    {
     "data": {
      "text/plain": [
       "(2000, 72)"
      ]
     },
     "execution_count": 24,
     "metadata": {},
     "output_type": "execute_result"
    }
   ],
   "source": [
    "# inspecting shape of the dataframe as a whole\n",
    "anxiety_all.shape"
   ]
  },
  {
   "cell_type": "code",
   "execution_count": 25,
   "metadata": {},
   "outputs": [
    {
     "data": {
      "text/plain": [
       "Index(['all_awardings', 'allow_live_comments', 'author', 'author_cakeday',\n",
       "       'author_flair_background_color', 'author_flair_css_class',\n",
       "       'author_flair_richtext', 'author_flair_template_id',\n",
       "       'author_flair_text', 'author_flair_text_color', 'author_flair_type',\n",
       "       'author_fullname', 'author_patreon_flair', 'author_premium', 'awarders',\n",
       "       'banned_by', 'can_mod_post', 'contest_mode', 'created_utc', 'domain',\n",
       "       'edited', 'full_link', 'gilded', 'gildings', 'id', 'is_crosspostable',\n",
       "       'is_meta', 'is_original_content', 'is_reddit_media_domain',\n",
       "       'is_robot_indexable', 'is_self', 'is_video',\n",
       "       'link_flair_background_color', 'link_flair_css_class',\n",
       "       'link_flair_richtext', 'link_flair_template_id', 'link_flair_text',\n",
       "       'link_flair_text_color', 'link_flair_type', 'locked', 'media_only',\n",
       "       'no_follow', 'num_comments', 'num_crossposts', 'over_18',\n",
       "       'parent_whitelist_status', 'permalink', 'pinned', 'post_hint',\n",
       "       'preview', 'pwls', 'removed_by', 'removed_by_category', 'retrieved_on',\n",
       "       'score', 'selftext', 'send_replies', 'spoiler', 'steward_reports',\n",
       "       'stickied', 'subreddit', 'subreddit_id', 'subreddit_subscribers',\n",
       "       'subreddit_type', 'thumbnail', 'title', 'total_awards_received',\n",
       "       'updated_utc', 'url', 'whitelist_status', 'wls', 'target'],\n",
       "      dtype='object')"
      ]
     },
     "execution_count": 25,
     "metadata": {},
     "output_type": "execute_result"
    }
   ],
   "source": [
    "# evaluating columns for potential inclusion in our features later\n",
    "anxiety_all.columns"
   ]
  },
  {
   "cell_type": "code",
   "execution_count": 26,
   "metadata": {},
   "outputs": [],
   "source": [
    "# creating final dataframe with features to be used in our NLP Analysis below\n",
    "anxiety_final = anxiety_all[['target', 'selftext', 'title']]"
   ]
  },
  {
   "cell_type": "code",
   "execution_count": 27,
   "metadata": {},
   "outputs": [],
   "source": [
    "# combining the consolidated into a final dataframe\n",
    "reddits_all = pd.concat([depression_final, anxiety_final])"
   ]
  },
  {
   "cell_type": "code",
   "execution_count": 28,
   "metadata": {},
   "outputs": [
    {
     "data": {
      "text/html": [
       "<div>\n",
       "<style scoped>\n",
       "    .dataframe tbody tr th:only-of-type {\n",
       "        vertical-align: middle;\n",
       "    }\n",
       "\n",
       "    .dataframe tbody tr th {\n",
       "        vertical-align: top;\n",
       "    }\n",
       "\n",
       "    .dataframe thead th {\n",
       "        text-align: right;\n",
       "    }\n",
       "</style>\n",
       "<table border=\"1\" class=\"dataframe\">\n",
       "  <thead>\n",
       "    <tr style=\"text-align: right;\">\n",
       "      <th></th>\n",
       "      <th>target</th>\n",
       "      <th>selftext</th>\n",
       "      <th>title</th>\n",
       "    </tr>\n",
       "  </thead>\n",
       "  <tbody>\n",
       "    <tr>\n",
       "      <th>0</th>\n",
       "      <td>depression</td>\n",
       "      <td>2019 was probably one of the worst year of my ...</td>\n",
       "      <td>Hello 2020 and fuck you 2019.</td>\n",
       "    </tr>\n",
       "    <tr>\n",
       "      <th>1</th>\n",
       "      <td>depression</td>\n",
       "      <td>I saw your post on this subreddit. I saw that ...</td>\n",
       "      <td>To my new hopeful friend on the other side of ...</td>\n",
       "    </tr>\n",
       "    <tr>\n",
       "      <th>2</th>\n",
       "      <td>depression</td>\n",
       "      <td>I feel like I've been hanging on by a thread, ...</td>\n",
       "      <td>can't imagine making it to 2030</td>\n",
       "    </tr>\n",
       "    <tr>\n",
       "      <th>3</th>\n",
       "      <td>depression</td>\n",
       "      <td>NaN</td>\n",
       "      <td>Why do I have the strongest urge to jump out o...</td>\n",
       "    </tr>\n",
       "    <tr>\n",
       "      <th>4</th>\n",
       "      <td>depression</td>\n",
       "      <td>I've been clean from self harm for over two ye...</td>\n",
       "      <td>Suicidal thoughts are so intense</td>\n",
       "    </tr>\n",
       "    <tr>\n",
       "      <th>5</th>\n",
       "      <td>depression</td>\n",
       "      <td>My girlfriend’s parents always have a new year...</td>\n",
       "      <td>Might have to meet my girlfriend’s rapist toni...</td>\n",
       "    </tr>\n",
       "    <tr>\n",
       "      <th>6</th>\n",
       "      <td>depression</td>\n",
       "      <td>I don't have the motivation to succeed like ot...</td>\n",
       "      <td>Everyone else has it all and I don't. Am I cra...</td>\n",
       "    </tr>\n",
       "    <tr>\n",
       "      <th>7</th>\n",
       "      <td>depression</td>\n",
       "      <td>I just wanna live and see society die\\n\\n\\n\\nB...</td>\n",
       "      <td>Lately I decided I'mma stay alive</td>\n",
       "    </tr>\n",
       "    <tr>\n",
       "      <th>8</th>\n",
       "      <td>depression</td>\n",
       "      <td>This is going to be long and honestly if I wer...</td>\n",
       "      <td>Insert witty title for post I just want to mak...</td>\n",
       "    </tr>\n",
       "    <tr>\n",
       "      <th>9</th>\n",
       "      <td>depression</td>\n",
       "      <td>It's what I keep repeating to myself. \\n\\nA co...</td>\n",
       "      <td>I was doing so good</td>\n",
       "    </tr>\n",
       "  </tbody>\n",
       "</table>\n",
       "</div>"
      ],
      "text/plain": [
       "       target                                           selftext  \\\n",
       "0  depression  2019 was probably one of the worst year of my ...   \n",
       "1  depression  I saw your post on this subreddit. I saw that ...   \n",
       "2  depression  I feel like I've been hanging on by a thread, ...   \n",
       "3  depression                                                NaN   \n",
       "4  depression  I've been clean from self harm for over two ye...   \n",
       "5  depression  My girlfriend’s parents always have a new year...   \n",
       "6  depression  I don't have the motivation to succeed like ot...   \n",
       "7  depression  I just wanna live and see society die\\n\\n\\n\\nB...   \n",
       "8  depression  This is going to be long and honestly if I wer...   \n",
       "9  depression  It's what I keep repeating to myself. \\n\\nA co...   \n",
       "\n",
       "                                               title  \n",
       "0                      Hello 2020 and fuck you 2019.  \n",
       "1  To my new hopeful friend on the other side of ...  \n",
       "2                    can't imagine making it to 2030  \n",
       "3  Why do I have the strongest urge to jump out o...  \n",
       "4                   Suicidal thoughts are so intense  \n",
       "5  Might have to meet my girlfriend’s rapist toni...  \n",
       "6  Everyone else has it all and I don't. Am I cra...  \n",
       "7                  Lately I decided I'mma stay alive  \n",
       "8  Insert witty title for post I just want to mak...  \n",
       "9                                I was doing so good  "
      ]
     },
     "execution_count": 28,
     "metadata": {},
     "output_type": "execute_result"
    }
   ],
   "source": [
    "# inspecting the final dataframe\n",
    "reddits_all.head(10)"
   ]
  },
  {
   "cell_type": "code",
   "execution_count": 29,
   "metadata": {},
   "outputs": [],
   "source": [
    "# converting consolidated dataframe into a csv so that it can be read into a new notebook\n",
    "reddits_all.to_csv('./reddits.csv', index=False)"
   ]
  }
 ],
 "metadata": {
  "kernelspec": {
   "display_name": "Python 3",
   "language": "python",
   "name": "python3"
  },
  "language_info": {
   "codemirror_mode": {
    "name": "ipython",
    "version": 3
   },
   "file_extension": ".py",
   "mimetype": "text/x-python",
   "name": "python",
   "nbconvert_exporter": "python",
   "pygments_lexer": "ipython3",
   "version": "3.7.4"
  }
 },
 "nbformat": 4,
 "nbformat_minor": 2
}
